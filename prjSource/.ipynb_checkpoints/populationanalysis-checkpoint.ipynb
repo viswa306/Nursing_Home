{
 "cells": [
  {
   "cell_type": "markdown",
   "metadata": {},
   "source": [
    "## Population Over 65 and Bed Occupancy Analysis In Nursing Homes across US"
   ]
  },
  {
   "cell_type": "code",
   "execution_count": 47,
   "metadata": {},
   "outputs": [],
   "source": [
    "# Dependencies and Setup\n",
    "import matplotlib.pyplot as plt\n",
    "import scipy.stats as sts\n",
    "import pandas as pd\n",
    "import requests\n",
    "import numpy as np"
   ]
  },
  {
   "cell_type": "markdown",
   "metadata": {},
   "source": [
    "#### Data Rerieval"
   ]
  },
  {
   "cell_type": "code",
   "execution_count": 48,
   "metadata": {},
   "outputs": [],
   "source": [
    "def NursingHomeBedOccupancy():\n",
    "# Read the data from the covid information database\n",
    "    read_data = pd.read_csv(\"../Resources/COVID-19_Nursing_Home_Dataset.csv\")\n",
    "    read_data.head(3)\n",
    "\n",
    "    # Retrieve the data required\n",
    "    covid_data_df = read_data[['Provider State', 'Residents Total All Deaths', 'Residents Total COVID-19 Deaths', 'Number of All Beds', 'Total Number of Occupied Beds']]\n",
    "    covid_data_df = covid_data_df.dropna(axis=0, how=\"any\")\n",
    "    covid_data_df\n",
    "    \n",
    "    # Groupby state and get the bed occupancy data for each state\n",
    "    covid_statewise = covid_data_df.groupby('Provider State').sum()\n",
    "    covid_statewise = covid_statewise.sort_values('Number of All Beds', ascending= False)\n",
    "    covid_statewise.reset_index(inplace=True)\n",
    "    return (covid_statewise)"
   ]
  },
  {
   "cell_type": "markdown",
   "metadata": {},
   "source": [
    "#### Data Retrieval and plotting"
   ]
  },
  {
   "cell_type": "code",
   "execution_count": 51,
   "metadata": {},
   "outputs": [],
   "source": [
    "def StatewisePopulationOver65():\n",
    "    population_nh_count_df=pd.read_csv(\"../Resources/Total Population and 65 over in US.csv\")\n",
    "   \n",
    "    population_nh_count_df.head(3)\n",
    "    population_nh_count_df['Total NH']\n",
    "\n",
    "    population_65_count_state = population_nh_count_df[\"Population Ages 65+ (percent)\"]\n",
    "    NH_count_state = population_nh_count_df[\"Total NH\"]\n",
    "    state_code = population_nh_count_df[\"State code\"]\n",
    "\n",
    "    plt.style.use('bmh')\n",
    "\n",
    "    fig = plt.figure(figsize = (20,10))\n",
    "    ax = fig.add_subplot(111)\n",
    "\n",
    "    plt.title('Number of Nursing Homes Vs Population Aged above 65 years', fontsize=18)\n",
    "    plt.plot(population_65_count_state, NH_count_state, linewidth=2, markersize=12, marker='o', color='m')\n",
    "    plt.xlabel('Population Ages 65+ (percent)', fontsize=16)\n",
    "    plt.ylabel('Number of Nursing Homes', fontsize=16)\n",
    "\n",
    "    x = population_65_count_state\n",
    "    y = NH_count_state\n",
    "    z = population_nh_count_df['State code']\n",
    "\n",
    "    for i, sc in enumerate(z.values):\n",
    "        ax.text(x[i], y[i]+25, sc, ha=\"center\", fontsize=13)\n",
    "    plt.show()"
   ]
  },
  {
   "cell_type": "code",
   "execution_count": null,
   "metadata": {},
   "outputs": [],
   "source": []
  }
 ],
 "metadata": {
  "kernelspec": {
   "display_name": "Python 3",
   "language": "python",
   "name": "python3"
  },
  "language_info": {
   "codemirror_mode": {
    "name": "ipython",
    "version": 3
   },
   "file_extension": ".py",
   "mimetype": "text/x-python",
   "name": "python",
   "nbconvert_exporter": "python",
   "pygments_lexer": "ipython3",
   "version": "3.6.10"
  }
 },
 "nbformat": 4,
 "nbformat_minor": 4
}
