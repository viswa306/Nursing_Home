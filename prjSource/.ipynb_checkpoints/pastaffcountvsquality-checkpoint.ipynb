{
 "cells": [
  {
   "cell_type": "markdown",
   "metadata": {},
   "source": [
    "### Quality Analysis of Nursing Homes in Pennsylvania. \n",
    "In this script we are analysing Resident Census Data from Pennsylvania Department of Health \n",
    "for the period from July 1, 2018, through June 30, 2019"
   ]
  },
  {
   "cell_type": "code",
   "execution_count": 1,
   "metadata": {},
   "outputs": [],
   "source": [
    "# Dependencies and Setup\n",
    "import matplotlib.pyplot as plt\n",
    "import scipy.stats as sts\n",
    "import pandas as pd\n",
    "import requests\n",
    "# import import_ipynb\n",
    "# from statewise import getBestratedinPA\n",
    "pd.set_option('mode.chained_assignment', None)"
   ]
  },
  {
   "cell_type": "markdown",
   "metadata": {},
   "source": [
    "### Data Retrieval, Clean Up and Combinig Data"
   ]
  },
  {
   "cell_type": "code",
   "execution_count": 2,
   "metadata": {},
   "outputs": [],
   "source": [
    "#Read data from Providerinfo.csv\n",
    "def providerPAcombineinfo():\n",
    "    provider_data = pd.read_csv(\"../Resources/Providerinfo.csv\")\n",
    "    provider_data\n",
    "    #cleaned provider data frame dropped the nan values\n",
    "    Provider_clean_df=provider_data[[\"PROVNAME\",\"STATE\",\"Overall_Rating\"]]\n",
    "    Provider_clean_df.drop(Provider_clean_df[Provider_clean_df['Overall_Rating'].isnull()].index, inplace = True)\n",
    "    Provider_clean_df\n",
    "    # get only Pa state data from the cleaned provider data frame\n",
    "    Provider_pa_data=Provider_clean_df.loc[Provider_clean_df[\"STATE\"]== \"PA\"]\n",
    "    Provider_pa_data\n",
    "    # #Read data from the Nursing_Home_Report_2018_2019.xlsx\n",
    "    cols = [0,1,10,11,12,13,14,15,16,17]\n",
    "    getNursinghomedata = pd.read_excel(\"../Resources/Nursing_Home_Report_2018_2019.xlsx\", sheet_name=\"Nursing Home Report 4\",skiprows=7,skipfooter=4,usecols=cols)\n",
    "    getNursinghomedata\n",
    "    #Rename the column names\n",
    "    Nursing_home_data=getNursinghomedata.rename(columns={\"County\":\"County_name\",\n",
    "                                                \"Facility Name\":\"PROVNAME\",\n",
    "                                                \"Full Time.4\": \"Reg Nurse FT\",\n",
    "                                                \"Part Time.4\":\"Reg Nurse PT\",\n",
    "                                                \"Full Time.5\":\"Cert Nurse FT\",\n",
    "                                                \"Part Time.5\":\"Cert Nurse PT\",\n",
    "                                                \"Full Time.6\":\"LPN FT\",\n",
    "                                                \"Part Time.6\":\"LPN PT\",\n",
    "                                                \"Full Time.7\":\"Nursing Aides FT\",\n",
    "                                                \"Part Time.7\": \"Nursing Aides PT\"})\n",
    "    Nursing_home_data\n",
    "    # merge the provider and nurshing homepa data frames to get only Pa data\n",
    "    merge_Provider_PA=pd.merge(Provider_pa_data,Nursing_home_data,on=\"PROVNAME\")\n",
    "    merge_Provider_PA\n",
    "    #Reset the index for merged dataframe\n",
    "\n",
    "    Provider_PA_combined  = merge_Provider_PA.reset_index(drop =True)\n",
    "    Provider_PA_combined\n",
    "    #Testing pursopse\n",
    "#     Provider_PA_combined.to_csv(\"bestrate.csv\")    \n",
    "    return(Provider_PA_combined)"
   ]
  },
  {
   "cell_type": "markdown",
   "metadata": {},
   "source": [
    "### Qualtiy Analysis of Nursing Homes based on the number of Nursing Staff"
   ]
  },
  {
   "cell_type": "code",
   "execution_count": 3,
   "metadata": {},
   "outputs": [],
   "source": [
    "def StaffvsOverallRating(Provider_PA_combined_df):   \n",
    "    # finding the total staff count and making a dataframe    \n",
    "    provider_Rating_Staffcount = pd.DataFrame(columns=['providername','OverallRating','Total_staff'])\n",
    "\n",
    "    i = 0\n",
    "    for index in range(len(Provider_PA_combined_df)):\n",
    "        Total_staff = 0\n",
    "    #+[\"Cerifiednurse_fulltime\"]+[\"Cerifiednurse_parttime\"]+[\"LPN_fulltime\"]+\n",
    "        Total_staff =Provider_PA_combined_df[\"Reg Nurse FT\"][i]+Provider_PA_combined_df[\"Reg Nurse PT\"][i]+Provider_PA_combined_df[\"Cert Nurse FT\"][i]+Provider_PA_combined_df[\"Cert Nurse PT\"][i]+Provider_PA_combined_df[\"LPN FT\"][i]+Provider_PA_combined_df[\"LPN PT\"][i]+Provider_PA_combined_df[\"Nursing Aides FT\"][i]+Provider_PA_combined_df[\"Nursing Aides PT\"][i]\n",
    "    \n",
    "        provider_Rating_Staffcount = provider_Rating_Staffcount.append({\"providername\" : Provider_PA_combined_df[\"PROVNAME\"][i],\n",
    "                                                \"OverallRating\" : Provider_PA_combined_df[\"Overall_Rating\"][i],\n",
    "                                                \"Total_staff\" : Total_staff, \n",
    "                                                 },\n",
    "                                                 ignore_index= True)\n",
    "\n",
    "        i = i + 1\n",
    "\n",
    "    provider_Rating_Staffcount\n",
    "    return(provider_Rating_Staffcount)"
   ]
  },
  {
   "cell_type": "code",
   "execution_count": 4,
   "metadata": {},
   "outputs": [],
   "source": [
    "# #Calling provider pa combined data to staffoverallrating function\n",
    "# providerPAcombineinfo_df=providerPAcombineinfo()\n",
    "# providerPAcombineinfo_df\n",
    "\n",
    "# Final_pa_rating_staffcnt=StaffvsOverallRating(providerPAcombineinfo_df)\n",
    "# Final_pa_rating_staffcnt"
   ]
  },
  {
   "cell_type": "code",
   "execution_count": 5,
   "metadata": {},
   "outputs": [],
   "source": [
    "# saving the overall rating and staff count for pa providers\n",
    "#provider_Rating_Staffcount.to_csv(\"bestratenhdf.csv\")"
   ]
  },
  {
   "cell_type": "code",
   "execution_count": 6,
   "metadata": {},
   "outputs": [],
   "source": [
    "# # draw Scatter plot\n",
    "# def drawscatter_QualityvsStaffcount(Final_pa_rating_staffcnt):\n",
    "    \n",
    "#     plt.scatter(Final_pa_rating_staffcnt[\"OverallRating\"],Final_pa_rating_staffcnt[\"Total_staff\"],c= \"blue\", edgecolors=\"black\")\n",
    "#     # Set the x-axis label\n",
    "#     plt.xlabel(\"Rating\")\n",
    "#     #set the y-axis label\n",
    "#     plt.ylabel(\"Speciality Nursing Staff\")\n",
    "      \n",
    "#     plt.show()\n",
    "    "
   ]
  },
  {
   "cell_type": "markdown",
   "metadata": {},
   "source": [
    "# Main code:"
   ]
  },
  {
   "cell_type": "code",
   "execution_count": 7,
   "metadata": {},
   "outputs": [],
   "source": [
    "\n",
    "# #Calling provider pa combined data to staffoverallrating function\n",
    "# providerPAcombineinfo_df=providerPAcombineinfo()\n",
    "# providerPAcombineinfo_df\n",
    "\n",
    "# Final_pa_rating_staffcnt=StaffvsOverallRating(providerPAcombineinfo_df)\n",
    "# Final_pa_rating_staffcnt\n",
    "# #Draw scatter plot overallrating vs Number of staff\n",
    "# drawscatter_QualityvsStaffcount(Final_pa_rating_staffcnt)\n"
   ]
  },
  {
   "cell_type": "code",
   "execution_count": null,
   "metadata": {},
   "outputs": [],
   "source": []
  }
 ],
 "metadata": {
  "kernelspec": {
   "display_name": "Python 3",
   "language": "python",
   "name": "python3"
  },
  "language_info": {
   "codemirror_mode": {
    "name": "ipython",
    "version": 3
   },
   "file_extension": ".py",
   "mimetype": "text/x-python",
   "name": "python",
   "nbconvert_exporter": "python",
   "pygments_lexer": "ipython3",
   "version": "3.7.6"
  }
 },
 "nbformat": 4,
 "nbformat_minor": 4
}
