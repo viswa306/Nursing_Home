{
 "cells": [
  {
   "cell_type": "markdown",
   "metadata": {},
   "source": [
    "#### Information about Nursing Home Residents in Pennsylvania\n",
    "In this script we are doing Agewsise and Genderwise analysis of the Residents in Pennsylvania Nursing Homes"
   ]
  },
  {
   "cell_type": "code",
   "execution_count": 19,
   "metadata": {},
   "outputs": [],
   "source": [
    "# Dependencies and Setup\n",
    "import matplotlib.pyplot as plt\n",
    "import scipy.stats as sts\n",
    "import pandas as pd\n",
    "import requests\n",
    "import import_ipynb\n",
    "from statewise import getCleanProviderInfo\n",
    "from statewise import getProvidersBestRatedinPA"
   ]
  },
  {
   "cell_type": "markdown",
   "metadata": {},
   "source": [
    "#### Data Retrieval and clean up"
   ]
  },
  {
   "cell_type": "code",
   "execution_count": 20,
   "metadata": {},
   "outputs": [],
   "source": [
    "# Retrieve the Resident Census data for Pennsylvania State Nursing Homes\n",
    "# And clean up the dataset\n",
    "def getPAResidentCensus():    \n",
    "    # Read the fifth sheet from the PA state excel file data\n",
    "    read_pennstateinfo = pd.read_excel(\"../Resources/Nursing_Home_Report_2018_2019.xlsx\",sheet_name=\"Nursing Home Report 5\", skiprows=6)\n",
    "    #R Rename the coulumns with a shorter name\n",
    "    pa_resident_census = read_pennstateinfo.rename(columns={\n",
    "        'Facility Name' : 'Prov Name',\n",
    "        'Men under 18 years of age' : 'Men below 18',\n",
    "        'Men between 18 and 44 years of age' : 'Men 18 to 44',\n",
    "        'Men between 45 and 59 years of age' : 'Men 45 to 59',\n",
    "        'Men between 60 and 64 years of age' : 'Men 60 to 64',\n",
    "        'Men between 65 and 69 years of age' : 'Men 65 to 69',\n",
    "        'Men between 70 and 74 years of age' : 'Men 70 to 74',\n",
    "        'Men between 75 and 79 years of age' : 'Men 75 to 79',\n",
    "        'Men between 80 and 84 years of age' : 'Men 80 to 84',\n",
    "        'Men between 85 and 89 years of age' : 'Men 85 to 89',\n",
    "        'Men between 90 and 94 years of age' : 'Men 90 to 94',\n",
    "        'Men between 95 and 99 years of age' : 'Men 99 to 99', \n",
    "        'Men 100 years of age and older' : 'Men above 100',\n",
    "        'Total Male Resident Census' : 'Men total', \n",
    "        'Women under 18 years of age' : 'Women below 18',\n",
    "        'Women between 18 and 44 years of age' : 'Women 18 to 44',\n",
    "        'Women between 45 and 59 years of age' : 'Women 45 to 59',\n",
    "        'Women between 60 and 64 years of age' : 'Women 60 to 64',\n",
    "        'Women between 65 and 69 years of age' : 'Women 65 to 69',\n",
    "        'Women between 70 and 74 years of age' : 'Women 70 to 74',\n",
    "        'Women between 75 and 79 years of age' : 'Women 75 to 79',\n",
    "        'Women between 80 and 84 years of age' : 'Women 80 to 84',\n",
    "        'Women between 85 and 89 years of age' : 'Women 85 to 89',\n",
    "        'Women between 90 and 94 years of age' : 'Women 90 to 94',\n",
    "        'Women between 95 and 99 years of age' : 'Women 99 to 99', \n",
    "        'Women 100 years of age and older' : 'Women above 100',\n",
    "        'Total Female Resident Census' : 'Women total',\n",
    "        'Facility Resident Total under 18 years of age' : 'Resident below 18',\n",
    "        'Facility Resident Total between 18 and 44 years of age' : 'Resident 18 to 44',\n",
    "        'Facility Resident Total between 45 and 59 years of age' : 'Resident 45 to 59',\n",
    "        'Facility Resident Total between 60 and 64 years of age' : 'Resident 60 to 64',\n",
    "        'Facility Resident Total between 65 and 69 years of age' : 'Resident 65 to 69',\n",
    "        'Facility Resident Total between 70 and 74 years of age' : 'Resident 70 to 74',\n",
    "        'Facility Resident Total between 75 and 79 years of age' : 'Resident 75 to 79',\n",
    "        'Facility Resident Total between 80 and 84 years of age' : 'Resident 80 to 84',\n",
    "        'Facility Resident Total between 85 and 89 years of age' : 'Resident 85 to 89',\n",
    "        'Facility Resident Total between 90 and 94 years of age' : 'Resident 90 to 94',\n",
    "        'Facility Resident Total between 95 and 99 years of age' : 'Resident 95 to 99', \n",
    "        'Facility Resident Total 100 years of age and older' : 'Resident above 100',\n",
    "        'Total Facility Resident Census' : 'Resident total'})\n",
    "    \n",
    "    #Clean up the data retrieved\n",
    "    pa_resident_census.dropna(axis=0, inplace=True)\n",
    "\n",
    "    # The resident count values are saved in the original dataset as strings.\n",
    "    # Convert all agewise the resident count string values as numeric\n",
    "    for i in range(2 , len(pa_resident_census.columns)):\n",
    "        col_name = pa_resident_census.columns[i]\n",
    "        # Convert to numeric and save the non numeric data values as null\n",
    "        pa_resident_census[col_name] = pd.to_numeric(pa_resident_census[col_name], errors='coerce')\n",
    "\n",
    "    # Locate the providers with resident count as null values\n",
    "    pa_resident_census.loc[pa_resident_census['Men total'].isnull()]\n",
    "    # Delete the providers with resident count as null values \n",
    "    pa_resident_census.dropna(axis=0, inplace=True)\n",
    "    \n",
    "    # Convert the resident count float values to integer\n",
    "    for i in range(2 , len(pa_resident_census.columns)):\n",
    "        col_name = pa_resident_census.columns[i]\n",
    "        # Convert to numeric and save the non numeric data values as null\n",
    "        pa_resident_census[col_name] = pa_resident_census[col_name].astype(int)\n",
    "        \n",
    "    return (pa_resident_census)"
   ]
  },
  {
   "cell_type": "markdown",
   "metadata": {},
   "source": [
    "### Combinig the data "
   ]
  },
  {
   "cell_type": "code",
   "execution_count": 22,
   "metadata": {},
   "outputs": [],
   "source": [
    "# Merge PA nursing home residents census,  and PA provider info\n",
    "def mergePAProviderResidentCensus(pennstate_census_data, prov_all_ratings):\n",
    "\n",
    "    # Total number of residents in each county in PA genderwise\n",
    "    pennstate_census_data['County'] = pennstate_census_data['County'].str.title()\n",
    "    pennstate_census_data['Prov Name'] = pennstate_census_data['Prov Name'].str.upper()\n",
    "\n",
    "    pa_residents_df = pennstate_census_data.groupby(['County', 'Prov Name']).sum().reset_index()\n",
    "\n",
    "#     prov_pa_bestrated = bestrated_df[['County','Prov Name','Overall Rating']]\n",
    "#     prov_pa_bestrated\n",
    "\n",
    "    # Retrieve all the nursing homes in PA state\n",
    "    prov_all_ratings_all = prov_all_ratings.loc[:,['County', 'Prov Name', 'Overall Rating', 'State']].copy()\n",
    "    prov_all_ratings_PA = prov_all_ratings_all.loc[prov_all_ratings_all['State']=='PA'].copy()\n",
    "\n",
    "    prov_all_ratings_PA_df = prov_all_ratings_PA.groupby(['County', 'Prov Name', 'Overall Rating']).count().reset_index()\n",
    "    del prov_all_ratings_PA_df['State']\n",
    "    \n",
    "    # Merge the two datasets\n",
    "    merge_df = pd.merge(pa_residents_df, prov_all_ratings_PA_df, on=['County', 'Prov Name'], how='inner')\n",
    "\n",
    "    return (merge_df)"
   ]
  },
  {
   "cell_type": "markdown",
   "metadata": {},
   "source": [
    "#### Gender wise Analysis of Best Rated Nursing Homes in PA"
   ]
  },
  {
   "cell_type": "code",
   "execution_count": 1,
   "metadata": {},
   "outputs": [],
   "source": [
    "# Draw pie chart showing the number of men and women in the best rated (rated 4 & 5) nursing homes in PA\n",
    "def drawPie_GenderwiseBestrated(pa_merged_data):\n",
    "    bestrated_df = pa_merged_data.loc[pa_merged_data['Overall Rating']>=4]\n",
    "    br_total_men = round(bestrated_df['Men total'].sum(),0).astype(int)\n",
    "    br_total_women = round(bestrated_df['Women total'].sum(),0).astype(int)\n",
    "    br_gender = 'Men','Women'\n",
    "    br_resident_count = [br_total_men, br_total_women]\n",
    "    labels = [ f'Male : {br_total_men}' , f'Female : {br_total_women}']\n",
    "    colors = ['blue', 'magenta']\n",
    "    plt.title(\"Men vs Women in Best rated PA Nursing Homes\")\n",
    "    plt.pie(br_resident_count, labels=labels, colors=colors, autopct=\"%1.1f%%\", startangle=110, explode=(0,0.06), shadow=True)\n",
    "    plt.axis(\"equal\")\n",
    "    plt.style.use('grayscale')\n",
    "    plt.savefig(\"../Output/genderbr.png\")\n",
    "    plt.show()"
   ]
  },
  {
   "cell_type": "markdown",
   "metadata": {},
   "source": [
    "#### Gender wise Analysis of Least Rated Nursing Homes in PA"
   ]
  },
  {
   "cell_type": "code",
   "execution_count": 28,
   "metadata": {},
   "outputs": [],
   "source": [
    "# Draw pie chart showing the number of men and women in the low rated (rated <= 3) nursing homes in PA\n",
    "def drawPie_GenderwiseLowrated(pa_resident_data):\n",
    "    lowrated_df = pa_resident_data.loc[pa_resident_data['Overall Rating']<4]\n",
    "    lr_total_men = lowrated_df['Men total'].sum()\n",
    "    lr_total_women = lowrated_df['Women total'].sum()\n",
    "    lr_gender = 'Men','Women'\n",
    "    lr_resident_count = [lr_total_men, lr_total_women]\n",
    "    labels = [ f'Male : {lr_total_men}' , f'Female : {lr_total_women}']\n",
    "    colors = ['teal', 'coral']\n",
    "    plt.pie(lr_resident_count, labels=labels, colors=colors,  explode=(0,0.06), autopct='%1.1f%%', shadow=True, startangle=140)\n",
    "    plt.title(\"Men vs Women in Low rated PA Nursing Homes\")\n",
    "    plt.axis(\"equal\")\n",
    "    plt.style.use('fivethirtyeight')\n",
    "    plt.savefig(\"../Output/genderlr.png\")\n",
    "    plt.show()"
   ]
  },
  {
   "cell_type": "code",
   "execution_count": null,
   "metadata": {},
   "outputs": [],
   "source": []
  }
 ],
 "metadata": {
  "kernelspec": {
   "display_name": "Python 3",
   "language": "python",
   "name": "python3"
  },
  "language_info": {
   "codemirror_mode": {
    "name": "ipython",
    "version": 3
   },
   "file_extension": ".py",
   "mimetype": "text/x-python",
   "name": "python",
   "nbconvert_exporter": "python",
   "pygments_lexer": "ipython3",
   "version": "3.6.10"
  }
 },
 "nbformat": 4,
 "nbformat_minor": 4
}
