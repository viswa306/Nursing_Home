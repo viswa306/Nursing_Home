{
 "cells": [
  {
   "cell_type": "markdown",
   "metadata": {},
   "source": [
    "## Nursing Homes Across US\n",
    "\n",
    "In this script, we are retreiving data regarding the Nursing Home Providers in United States. \n",
    "This contains functions to read the data, clean up the data and extract the information required for the analysis. "
   ]
  },
  {
   "cell_type": "code",
   "execution_count": 12,
   "metadata": {},
   "outputs": [],
   "source": [
    "# Dependencies and Setup\n",
    "import matplotlib.pyplot as plt\n",
    "import scipy.stats as sts\n",
    "import pandas as pd\n",
    "import requests\n",
    "pd.set_option('mode.chained_assignment', None)"
   ]
  },
  {
   "cell_type": "markdown",
   "metadata": {},
   "source": [
    "### Data Retrieval and clean up"
   ]
  },
  {
   "cell_type": "code",
   "execution_count": 13,
   "metadata": {},
   "outputs": [],
   "source": [
    "def getCleanProviderInfo():   # Reads data from ProviderInfo.csv, cleans it \n",
    "    # Read the input data\n",
    "    getprovdata = pd.read_csv(\"../Resources/ProviderInfo.csv\")\n",
    "    providerinfo_data = getprovdata[['PROVNUM', 'PROVNAME', 'ADDRESS', 'CITY', 'STATE', 'ZIP', 'County_name', 'Overall_Rating', 'BEDCERT', 'RESTOT']]\n",
    "    providerinfo_data.rename(columns={\n",
    "        'PROVNUM' : \"Prov No\", \n",
    "        'PROVNAME' : 'Prov Name', \n",
    "        'ADDRESS' : 'Address',\n",
    "        'CITY' : 'City',\n",
    "        'STATE' : 'State',\n",
    "        'ZIP': 'Zip',\n",
    "        'County_name' : 'County',\n",
    "        'Overall_Rating' : 'Overall Rating',\n",
    "        'BEDCERT' : 'No of cert beds', \n",
    "        'RESTOT': 'Avg no of residents per day'}, inplace=True)\n",
    "    providerinfo_data.drop(providerinfo_data[providerinfo_data['Overall Rating'].isnull()].index, inplace = True)\n",
    "    return (providerinfo_data)"
   ]
  },
  {
   "cell_type": "code",
   "execution_count": 14,
   "metadata": {},
   "outputs": [],
   "source": [
    "# def drawBar_CountAllStates(provider_df):\n",
    "#     prov_groupby_state = provider_df.groupby(\"State\")['Prov Name'].count().reset_index(name=\"count by state\")\n",
    "#     prov_groupby_state = prov_groupby_state.sort_values('count by state', ascending=False)\n",
    "#     x_values = prov_groupby_state['State']\n",
    "#     y_values = prov_groupby_state['count by state']\n",
    "#     plt.figure(figsize=(32,12))\n",
    "#     plt.bar(x_values, y_values) \n",
    "#     plt.title(\"Nursing Homes Count in United States\", fontsize=24)\n",
    "#     plt.xlabel(\"States\", fontsize=20)\n",
    "#     plt.ylabel(\"Number of Nursing Homes\", fontsize=20)\n",
    "#     plt.style.use('seaborn')    \n",
    "#     plt.show()   "
   ]
  },
  {
   "cell_type": "markdown",
   "metadata": {},
   "source": [
    "###### Get the top ten best rated nursing homes in US"
   ]
  },
  {
   "cell_type": "code",
   "execution_count": 15,
   "metadata": {},
   "outputs": [],
   "source": [
    "def getToptenNames(provider_df):\n",
    "    # Group the providers by state and get the count of providers\n",
    "    prov_statewise_count = provider_df.groupby([\"State\"])['Prov Name'].count().reset_index(name=\"Total\")\n",
    "    \n",
    "    # Retrieve the providers from the above dataset with ratings 4 & above\n",
    "    prov_toprated_df = provider_df.loc[provider_df['Overall Rating']>=4]\n",
    "\n",
    "    # Get the total count of providers by state with ratings 4 & 5\n",
    "    prov_best_rated_df = prov_toprated_df.groupby('State')['Prov Name'].count().reset_index(name=\"Top Rated Total\")\n",
    "    \n",
    "    # Merge the above two datasets and calculate the percentage of providers whaih are best rated per state\n",
    "    merge_df = pd.merge(prov_best_rated_df, prov_statewise_count, on=\"State\")\n",
    "    merge_df[\"Percentage\"] = (merge_df['Top Rated Total']/merge_df['Total'])*100\n",
    "    \n",
    "    # Sort the dataset in descending order of the total count so as to find the top ten best rated nursing homes/providers\n",
    "    merge_df_sorted = merge_df.sort_values([\"Total\", \"Top Rated Total\"], ascending = False)\n",
    "    \n",
    "    # Extract the top ten nursing homes\n",
    "    prov_topten_nh = merge_df_sorted.head(10).reset_index(drop=True)\n",
    "    \n",
    "    # Return the top ten best rated nursing homes\n",
    "    return (prov_topten_nh)"
   ]
  },
  {
   "cell_type": "code",
   "execution_count": 16,
   "metadata": {},
   "outputs": [],
   "source": [
    "# import import_ipynb\n",
    "\n",
    "# from statewise import getCleanProviderInfo\n",
    "# provider_df\n",
    "# df2=getToptenNames()\n",
    "# df2"
   ]
  },
  {
   "cell_type": "code",
   "execution_count": 17,
   "metadata": {},
   "outputs": [],
   "source": [
    "# def drawBar_TopTenAllStates(provider_info):\n",
    "#     # Retrieve the data fro the top ten providers\n",
    "#     nh_rated_topten = getToptenNames(provider_info)        \n",
    "#     nh_rated_topten.plot(x='State',  y=[\"Total\", \"Top Rated Total\"], kind='bar', stacked=True)\n",
    "#     plt.xlabel(\"States\")\n",
    "#     plt.ylabel(\"Number of Nursing Homes\")\n",
    "#     plt.legend([\"Total Nursing Homes\", \"Best Rated Nursing Homes\"])\n",
    "#     plt.style.use('bmh')\n",
    "#     plt.show()"
   ]
  },
  {
   "cell_type": "markdown",
   "metadata": {},
   "source": [
    "##### Get the Best Rated Nursing homes in Pennsylvania"
   ]
  },
  {
   "cell_type": "code",
   "execution_count": 18,
   "metadata": {},
   "outputs": [],
   "source": [
    "def getProvidersBestRatedinPA():\n",
    "    provider_df = getCleanProviderInfo()\n",
    "    prov_pennstate = provider_df.loc[provider_df['State']=='PA',['Prov Name','County','Overall Rating']].copy()\n",
    "    prov_bestrated_in_PA = prov_pennstate.loc[prov_pennstate['Overall Rating']>=4]\n",
    "    prov_bestrated_in_PA.sort_values('Overall Rating',ascending=False, inplace=True)\n",
    "    prov_bestrated_in_PA.reset_index(drop=True, inplace=True)\n",
    "    prov_bestrated_in_PA\n",
    "    return (prov_bestrated_in_PA)"
   ]
  },
  {
   "cell_type": "code",
   "execution_count": 19,
   "metadata": {},
   "outputs": [
    {
     "data": {
      "text/html": [
       "<div>\n",
       "<style scoped>\n",
       "    .dataframe tbody tr th:only-of-type {\n",
       "        vertical-align: middle;\n",
       "    }\n",
       "\n",
       "    .dataframe tbody tr th {\n",
       "        vertical-align: top;\n",
       "    }\n",
       "\n",
       "    .dataframe thead th {\n",
       "        text-align: right;\n",
       "    }\n",
       "</style>\n",
       "<table border=\"1\" class=\"dataframe\">\n",
       "  <thead>\n",
       "    <tr style=\"text-align: right;\">\n",
       "      <th></th>\n",
       "      <th>Prov Name</th>\n",
       "      <th>County</th>\n",
       "      <th>Overall Rating</th>\n",
       "    </tr>\n",
       "  </thead>\n",
       "  <tbody>\n",
       "    <tr>\n",
       "      <td>0</td>\n",
       "      <td>PASSAVANT RETIREMENT AND HEALT</td>\n",
       "      <td>Butler</td>\n",
       "      <td>5.0</td>\n",
       "    </tr>\n",
       "    <tr>\n",
       "      <td>1</td>\n",
       "      <td>MANORCARE HEALTH SERVICES-OXFORD VALLEY</td>\n",
       "      <td>Bucks</td>\n",
       "      <td>5.0</td>\n",
       "    </tr>\n",
       "    <tr>\n",
       "      <td>2</td>\n",
       "      <td>WILLOWBROOKE COURT SKILLED CARE CENTER AT BRIT...</td>\n",
       "      <td>Montgomery</td>\n",
       "      <td>5.0</td>\n",
       "    </tr>\n",
       "    <tr>\n",
       "      <td>3</td>\n",
       "      <td>FELLOWSHIP MANOR</td>\n",
       "      <td>Lehigh</td>\n",
       "      <td>5.0</td>\n",
       "    </tr>\n",
       "    <tr>\n",
       "      <td>4</td>\n",
       "      <td>LAKESIDE AT WILLOW VALLEY</td>\n",
       "      <td>Lancaster</td>\n",
       "      <td>5.0</td>\n",
       "    </tr>\n",
       "    <tr>\n",
       "      <td>...</td>\n",
       "      <td>...</td>\n",
       "      <td>...</td>\n",
       "      <td>...</td>\n",
       "    </tr>\n",
       "    <tr>\n",
       "      <td>321</td>\n",
       "      <td>VALLEY VIEW HAVEN, INC</td>\n",
       "      <td>Mifflin</td>\n",
       "      <td>4.0</td>\n",
       "    </tr>\n",
       "    <tr>\n",
       "      <td>322</td>\n",
       "      <td>SUNNYVIEW NURSING AND REHABILITATION CENTER</td>\n",
       "      <td>Butler</td>\n",
       "      <td>4.0</td>\n",
       "    </tr>\n",
       "    <tr>\n",
       "      <td>323</td>\n",
       "      <td>SENECA PLACE</td>\n",
       "      <td>Allegheny</td>\n",
       "      <td>4.0</td>\n",
       "    </tr>\n",
       "    <tr>\n",
       "      <td>324</td>\n",
       "      <td>LAFAYETTE MANOR, INC</td>\n",
       "      <td>Fayette</td>\n",
       "      <td>4.0</td>\n",
       "    </tr>\n",
       "    <tr>\n",
       "      <td>325</td>\n",
       "      <td>RIVERSTREET MANOR</td>\n",
       "      <td>Luzerne</td>\n",
       "      <td>4.0</td>\n",
       "    </tr>\n",
       "  </tbody>\n",
       "</table>\n",
       "<p>326 rows × 3 columns</p>\n",
       "</div>"
      ],
      "text/plain": [
       "                                             Prov Name      County  \\\n",
       "0                       PASSAVANT RETIREMENT AND HEALT      Butler   \n",
       "1              MANORCARE HEALTH SERVICES-OXFORD VALLEY       Bucks   \n",
       "2    WILLOWBROOKE COURT SKILLED CARE CENTER AT BRIT...  Montgomery   \n",
       "3                                     FELLOWSHIP MANOR      Lehigh   \n",
       "4                            LAKESIDE AT WILLOW VALLEY   Lancaster   \n",
       "..                                                 ...         ...   \n",
       "321                             VALLEY VIEW HAVEN, INC     Mifflin   \n",
       "322        SUNNYVIEW NURSING AND REHABILITATION CENTER      Butler   \n",
       "323                                       SENECA PLACE   Allegheny   \n",
       "324                               LAFAYETTE MANOR, INC     Fayette   \n",
       "325                                  RIVERSTREET MANOR     Luzerne   \n",
       "\n",
       "     Overall Rating  \n",
       "0               5.0  \n",
       "1               5.0  \n",
       "2               5.0  \n",
       "3               5.0  \n",
       "4               5.0  \n",
       "..              ...  \n",
       "321             4.0  \n",
       "322             4.0  \n",
       "323             4.0  \n",
       "324             4.0  \n",
       "325             4.0  \n",
       "\n",
       "[326 rows x 3 columns]"
      ]
     },
     "execution_count": 19,
     "metadata": {},
     "output_type": "execute_result"
    }
   ],
   "source": [
    "df=getProvidersBestRatedinPA()\n",
    "df\n"
   ]
  },
  {
   "cell_type": "markdown",
   "metadata": {},
   "source": [
    "##### Get the Least Rated Nursing homes in Pennsylvania"
   ]
  },
  {
   "cell_type": "code",
   "execution_count": 20,
   "metadata": {},
   "outputs": [],
   "source": [
    "def getProvidersLowRatedinPA():\n",
    "    provider_df = getCleanProviderInfo()\n",
    "    prov_pennstate = provider_df.loc[provider_df['State']=='PA'] [['Prov Name','County','Overall Rating']]\n",
    "    prov_lowrated_in_PA = prov_pennstate.loc[prov_pennstate['Overall Rating']<=3]\n",
    "    prov_lowrated_in_PA.sort_values('Overall Rating',ascending=False, inplace=True)\n",
    "    prov_lowrated_in_PA.reset_index(drop=True, inplace=True)\n",
    "    prov_lowrated_in_PA\n",
    "    return (prov_lowrated_in_PA)"
   ]
  },
  {
   "cell_type": "markdown",
   "metadata": {},
   "source": [
    "##### Get the Quality Ratings by Category"
   ]
  },
  {
   "cell_type": "code",
   "execution_count": 21,
   "metadata": {},
   "outputs": [],
   "source": [
    "# Analyse how the various ratings contirbute to the nursing home quality rating\n",
    "def getProviderRatings():\n",
    "    getprovdata = pd.read_csv(\"../Resources/ProviderInfo.csv\")\n",
    "\n",
    "    # Retrieve the different ratings for the nursing homes\n",
    "    provider_ratings = getprovdata[['Overall_Rating', 'SURVEY_RATING', 'Quality_Rating', 'LS_Quality_Rating', \n",
    "                                     'SS_Quality_Rating', 'Staffing_Rating', 'RN_staffing_rating']]\n",
    "\n",
    "    # Check if there are null values for the ratings\n",
    "    provider_ratings[provider_ratings['Quality_Rating'].isnull()]\n",
    "    \n",
    "    # Drop the null values from the dataset\n",
    "    provider_ratings = provider_ratings.dropna(axis=0)\n",
    "    return (provider_ratings)"
   ]
  },
  {
   "cell_type": "code",
   "execution_count": 22,
   "metadata": {},
   "outputs": [],
   "source": [
    "# def drawOverallvsOtherRatings():\n",
    "#     providerinfo_data = getProviderRatings()\n",
    "#     groupby_rating = providerinfo_data.groupby('Overall_Rating').mean().reset_index()\n",
    "#     groupby_rating\n",
    "\n",
    "#     x_axis = groupby_rating['Overall_Rating']\n",
    "\n",
    "#     y_axis_1 = groupby_rating['SURVEY_RATING']\n",
    "#     y_axis_2 = groupby_rating['Quality_Rating']\n",
    "#     y_axis_3 = groupby_rating['Staffing_Rating']\n",
    "#     y_axis_4 = groupby_rating['RN_staffing_rating']\n",
    "#     y_axis_5 = groupby_rating['LS_Quality_Rating']\n",
    "#     y_axis_6 = groupby_rating['SS_Quality_Rating']\n",
    "\n",
    "#     ratings = [\"Survey Rating\", \"Quality Rating\", \"Staffing_Rating\", \"RN_staffing_rating\", 'LS_Quality_Rating', 'SS_Quality_Rating']\n",
    "\n",
    "#     plt.plot(x_axis, y_axis_1, linewidth=1, marker=\"o\", color=\"r\")\n",
    "#     plt.plot(x_axis, y_axis_2, linewidth=1, marker=\"s\", color=\"g\")\n",
    "#     plt.plot(x_axis, y_axis_3, linewidth=1, marker=\"*\", color=\"b\")\n",
    "#     plt.plot(x_axis, y_axis_4, linewidth=1, marker=\"^\", color=\"y\")\n",
    "#     plt.plot(x_axis, y_axis_5, linewidth=1, marker=\"^\", color=\"m\")\n",
    "#     plt.plot(x_axis, y_axis_6, linewidth=1, marker=\"^\", color=\"c\")\n",
    "#     plt.xlabel(\"Overall Ratings\")\n",
    "#     plt.ylabel(\"Other Rating\")\n",
    "#     plt.legend(ratings)\n",
    "#     plt.style.use('bmh')\n",
    "#     plt.show()"
   ]
  },
  {
   "cell_type": "code",
   "execution_count": null,
   "metadata": {},
   "outputs": [],
   "source": []
  },
  {
   "cell_type": "code",
   "execution_count": null,
   "metadata": {},
   "outputs": [],
   "source": []
  },
  {
   "cell_type": "code",
   "execution_count": null,
   "metadata": {},
   "outputs": [],
   "source": []
  }
 ],
 "metadata": {
  "kernelspec": {
   "display_name": "Python 3",
   "language": "python",
   "name": "python3"
  },
  "language_info": {
   "codemirror_mode": {
    "name": "ipython",
    "version": 3
   },
   "file_extension": ".py",
   "mimetype": "text/x-python",
   "name": "python",
   "nbconvert_exporter": "python",
   "pygments_lexer": "ipython3",
   "version": "3.7.4"
  }
 },
 "nbformat": 4,
 "nbformat_minor": 4
}
